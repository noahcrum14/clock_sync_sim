{
 "cells": [
  {
   "cell_type": "code",
   "execution_count": 1,
   "id": "59ef35ce-f910-4e59-9318-1713ff1f31b6",
   "metadata": {},
   "outputs": [],
   "source": [
    "import numpy as np"
   ]
  },
  {
   "cell_type": "code",
   "execution_count": 2,
   "id": "b72f788f-1377-4bbf-b172-716b416bfd06",
   "metadata": {},
   "outputs": [],
   "source": [
    "SIGMA_JITTER = 0.05 # Jitter standard deviation [ns]\n",
    "SIGMA = 0.05\n",
    "distance = 19700\n",
    "\n",
    "velocity = 0.20818920694444445  # c in fiber [m/ns]\n",
    "wavelength = 1550 * 10 ** -9 #wavelength in [m]\n",
    "d_lambda = velocity/wavelength * SIGMA\n",
    "\n",
    "def jitter(sigma_jitter):\n",
    "    return np.random.normal(0, sigma_jitter)\n",
    "\n",
    "\n",
    "# t_CD = D_CD * L * pulse_width (wavelength)\n",
    "def chromatic_dispersion(length, pulse_width):\n",
    "    D_CD = 0.017 #[ns/nm/km]\n",
    "    return D_CD * length * pulse_width\n",
    "\n",
    "\n",
    "# t_PMD = D_PMD * sqrt(L)\n",
    "def pmd(length):\n",
    "    D_PMD = 0.005 #[ns/sqrt(km)]\n",
    "    return D_PMD * np.sqrt(length)"
   ]
  },
  {
   "cell_type": "code",
   "execution_count": null,
   "id": "6f1dd552-fef7-47d6-80b3-b9a353460a1c",
   "metadata": {},
   "outputs": [],
   "source": [
    "print"
   ]
  }
 ],
 "metadata": {
  "kernelspec": {
   "display_name": "q_env",
   "language": "python",
   "name": "q_env"
  },
  "language_info": {
   "codemirror_mode": {
    "name": "ipython",
    "version": 3
   },
   "file_extension": ".py",
   "mimetype": "text/x-python",
   "name": "python",
   "nbconvert_exporter": "python",
   "pygments_lexer": "ipython3",
   "version": "3.10.4"
  }
 },
 "nbformat": 4,
 "nbformat_minor": 5
}
