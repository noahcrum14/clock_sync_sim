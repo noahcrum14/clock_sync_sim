{
 "cells": [
  {
   "cell_type": "code",
   "execution_count": 1,
   "id": "59ef35ce-f910-4e59-9318-1713ff1f31b6",
   "metadata": {},
   "outputs": [],
   "source": [
    "import numpy as np"
   ]
  },
  {
   "cell_type": "code",
   "execution_count": 15,
   "id": "b72f788f-1377-4bbf-b172-716b416bfd06",
   "metadata": {},
   "outputs": [
    {
     "name": "stdout",
     "output_type": "stream",
     "text": [
      "0.057699917187376354\n"
     ]
    }
   ],
   "source": [
    "SIGMA_JITTER = 0.05 # Jitter standard deviation [ns]\n",
    "SIGMA = 0.005\n",
    "distance = 19700\n",
    "\n",
    "velocity = 0.20818920694444445  # c in fiber [m/ns]\n",
    "wavelength = 1550 * 10 ** -9 #wavelength in [m]\n",
    "d_lambda = wavelength**2/velocity * (SIGMA * 10 ** 12)\n",
    "print(d_lambda)\n",
    "\n",
    "def jitter(sigma_jitter):\n",
    "    return np.random.normal(0, sigma_jitter)\n",
    "\n",
    "\n",
    "# t_CD = D_CD * L * pulse_width (wavelength)\n",
    "def chromatic_dispersion(length, pulse_width):\n",
    "    D_CD = 0.017 #[ns/nm/km]\n",
    "    return D_CD * length * pulse_width\n",
    "\n",
    "\n",
    "# t_PMD = D_PMD * sqrt(L)\n",
    "def pmd(length):\n",
    "    D_PMD = 0.005 #[ns/sqrt(km)]\n",
    "    return D_PMD * np.sqrt(length)"
   ]
  },
  {
   "cell_type": "code",
   "execution_count": 6,
   "id": "1745e1bf-bf13-4c89-b59f-d3fee4382b6b",
   "metadata": {},
   "outputs": [
    {
     "data": {
      "text/plain": [
       "4.3357613596947626e+30"
      ]
     },
     "execution_count": 6,
     "metadata": {},
     "output_type": "execute_result"
    }
   ],
   "source": [
    "(3*10**8)/(1.44 * (1.55*10**-6)**2) * (0.05*10**12)"
   ]
  },
  {
   "cell_type": "code",
   "execution_count": 13,
   "id": "6f1dd552-fef7-47d6-80b3-b9a353460a1c",
   "metadata": {},
   "outputs": [
    {
     "name": "stdout",
     "output_type": "stream",
     "text": [
      "Jitter: 0.006796949305620433\n",
      "CD: 19.323702266052344\n",
      "PMD: 0.7017834423809101\n"
     ]
    }
   ],
   "source": [
    "print(f\"Jitter: {jitter(SIGMA_JITTER)}\")\n",
    "print(f\"CD: {chromatic_dispersion(distance, d_lambda)}\")\n",
    "print(f\"PMD: {pmd(distance)}\")"
   ]
  },
  {
   "cell_type": "code",
   "execution_count": 18,
   "id": "705033f6-1ffb-4fd5-a143-85345d3b84eb",
   "metadata": {},
   "outputs": [
    {
     "name": "stdout",
     "output_type": "stream",
     "text": [
      "1.56e-06\n"
     ]
    }
   ],
   "source": [
    "print(0.00000156)"
   ]
  },
  {
   "cell_type": "code",
   "execution_count": null,
   "id": "33e2256c-b752-46b8-8857-e20c539004c2",
   "metadata": {},
   "outputs": [],
   "source": []
  }
 ],
 "metadata": {
  "kernelspec": {
   "display_name": "q_env",
   "language": "python",
   "name": "q_env"
  },
  "language_info": {
   "codemirror_mode": {
    "name": "ipython",
    "version": 3
   },
   "file_extension": ".py",
   "mimetype": "text/x-python",
   "name": "python",
   "nbconvert_exporter": "python",
   "pygments_lexer": "ipython3",
   "version": "3.10.4"
  }
 },
 "nbformat": 4,
 "nbformat_minor": 5
}
